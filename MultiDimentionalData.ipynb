{
  "nbformat": 4,
  "nbformat_minor": 0,
  "metadata": {
    "colab": {
      "name": "MultiDimentionalData.ipynb",
      "provenance": [],
      "collapsed_sections": [],
      "authorship_tag": "ABX9TyOPScRqAuei6qfCHZ0qWijy",
      "include_colab_link": true
    },
    "kernelspec": {
      "name": "python3",
      "display_name": "Python 3"
    },
    "language_info": {
      "name": "python"
    }
  },
  "cells": [
    {
      "cell_type": "markdown",
      "metadata": {
        "id": "view-in-github",
        "colab_type": "text"
      },
      "source": [
        "<a href=\"https://colab.research.google.com/github/vivekvision/PySparkDataWrangling/blob/main/MultiDimentionalData.ipynb\" target=\"_parent\"><img src=\"https://colab.research.google.com/assets/colab-badge.svg\" alt=\"Open In Colab\"/></a>"
      ]
    },
    {
      "cell_type": "code",
      "execution_count": 1,
      "metadata": {
        "colab": {
          "base_uri": "https://localhost:8080/"
        },
        "id": "XmFCwUhWlwUX",
        "outputId": "cd151acb-c554-41a9-f843-a6f56043f012"
      },
      "outputs": [
        {
          "output_type": "stream",
          "name": "stdout",
          "text": [
            "Collecting pyspark\n",
            "  Downloading pyspark-3.2.1.tar.gz (281.4 MB)\n",
            "\u001b[K     |████████████████████████████████| 281.4 MB 29 kB/s \n",
            "\u001b[?25hCollecting py4j==0.10.9.3\n",
            "  Downloading py4j-0.10.9.3-py2.py3-none-any.whl (198 kB)\n",
            "\u001b[K     |████████████████████████████████| 198 kB 50.5 MB/s \n",
            "\u001b[?25hBuilding wheels for collected packages: pyspark\n",
            "  Building wheel for pyspark (setup.py) ... \u001b[?25l\u001b[?25hdone\n",
            "  Created wheel for pyspark: filename=pyspark-3.2.1-py2.py3-none-any.whl size=281853642 sha256=a60c94a3f14036d41324b9d1676f024890e1c42e1e47a572feac5ad4254fdf87\n",
            "  Stored in directory: /root/.cache/pip/wheels/9f/f5/07/7cd8017084dce4e93e84e92efd1e1d5334db05f2e83bcef74f\n",
            "Successfully built pyspark\n",
            "Installing collected packages: py4j, pyspark\n",
            "Successfully installed py4j-0.10.9.3 pyspark-3.2.1\n"
          ]
        }
      ],
      "source": [
        "!pip install pyspark"
      ]
    },
    {
      "cell_type": "code",
      "source": [
        "import pandas as pd\n",
        "import pyspark.sql.functions as sf\n",
        "\n",
        "from pyspark.sql import SparkSession\n",
        "\n",
        "spark = SparkSession.builder\\\n",
        "        .appName(\"testApp\")\\\n",
        "        .getOrCreate()"
      ],
      "metadata": {
        "id": "iTkmFXntmPRM"
      },
      "execution_count": 37,
      "outputs": []
    },
    {
      "cell_type": "code",
      "source": [
        "df = pd.read_excel(\"./MultiDimensionalSample.xlsx\", sheet_name=\"Sheet1\", header=[0,1,2,3], index_col=[0,1,2,3],dtype=str)"
      ],
      "metadata": {
        "id": "LaN7y_CxmQDU"
      },
      "execution_count": 38,
      "outputs": []
    },
    {
      "cell_type": "code",
      "source": [
        "df"
      ],
      "metadata": {
        "colab": {
          "base_uri": "https://localhost:8080/",
          "height": 520
        },
        "id": "RYyfKX27mg-f",
        "outputId": "3db4b910-1f7b-4ea0-b209-1108120fb969"
      },
      "execution_count": 39,
      "outputs": [
        {
          "output_type": "execute_result",
          "data": {
            "text/plain": [
              "                                FY2020                                    \\\n",
              "                              December                  November           \n",
              "                            TotalCases OverRun Budget TotalCases OverRun   \n",
              "                                   YTD     YTD    YTD        YTD     YTD   \n",
              "Asia Singapore Sub A Item 1         34      65     45         30      60   \n",
              "                     Item 2         34      65     45         30      60   \n",
              "                     Item 3         34      65     45         30      60   \n",
              "               Sub B Item 1         34      65     45         30      60   \n",
              "                     Item 2         34      65     45         30      60   \n",
              "                     Item 3         34      65     45         30      60   \n",
              "EUR  France    Sub A Item 1         34      65     45         30      60   \n",
              "                     Item 2         34      65     45         30      60   \n",
              "                     Item 3         34      65     45         30      60   \n",
              "               Sub B Item 1         34      65     45         30      60   \n",
              "                     Item 2         34      65     45         30      60   \n",
              "                     Item 3         34      65     45         30      60   \n",
              "\n",
              "                                                              \n",
              "                                      October                 \n",
              "                            Budget TotalCases OverRun Budget  \n",
              "                               YTD        YTD     YTD    YTD  \n",
              "Asia Singapore Sub A Item 1     34         30      60     34  \n",
              "                     Item 2     34         30      60     34  \n",
              "                     Item 3     34         30      60     34  \n",
              "               Sub B Item 1     34         30      60     34  \n",
              "                     Item 2     34         30      60     34  \n",
              "                     Item 3     34         30      60     34  \n",
              "EUR  France    Sub A Item 1     34         30      60     34  \n",
              "                     Item 2     34         30      60     34  \n",
              "                     Item 3     34         30      60     34  \n",
              "               Sub B Item 1     34         30      60     34  \n",
              "                     Item 2     34         30      60     34  \n",
              "                     Item 3     34         30      60     34  "
            ],
            "text/html": [
              "\n",
              "  <div id=\"df-80d1f7f0-3b71-40ac-afdf-f119b1093231\">\n",
              "    <div class=\"colab-df-container\">\n",
              "      <div>\n",
              "<style scoped>\n",
              "    .dataframe tbody tr th:only-of-type {\n",
              "        vertical-align: middle;\n",
              "    }\n",
              "\n",
              "    .dataframe tbody tr th {\n",
              "        vertical-align: top;\n",
              "    }\n",
              "\n",
              "    .dataframe thead tr th {\n",
              "        text-align: left;\n",
              "    }\n",
              "</style>\n",
              "<table border=\"1\" class=\"dataframe\">\n",
              "  <thead>\n",
              "    <tr>\n",
              "      <th></th>\n",
              "      <th></th>\n",
              "      <th></th>\n",
              "      <th></th>\n",
              "      <th colspan=\"9\" halign=\"left\">FY2020</th>\n",
              "    </tr>\n",
              "    <tr>\n",
              "      <th></th>\n",
              "      <th></th>\n",
              "      <th></th>\n",
              "      <th></th>\n",
              "      <th colspan=\"3\" halign=\"left\">December</th>\n",
              "      <th colspan=\"3\" halign=\"left\">November</th>\n",
              "      <th colspan=\"3\" halign=\"left\">October</th>\n",
              "    </tr>\n",
              "    <tr>\n",
              "      <th></th>\n",
              "      <th></th>\n",
              "      <th></th>\n",
              "      <th></th>\n",
              "      <th>TotalCases</th>\n",
              "      <th>OverRun</th>\n",
              "      <th>Budget</th>\n",
              "      <th>TotalCases</th>\n",
              "      <th>OverRun</th>\n",
              "      <th>Budget</th>\n",
              "      <th>TotalCases</th>\n",
              "      <th>OverRun</th>\n",
              "      <th>Budget</th>\n",
              "    </tr>\n",
              "    <tr>\n",
              "      <th></th>\n",
              "      <th></th>\n",
              "      <th></th>\n",
              "      <th></th>\n",
              "      <th>YTD</th>\n",
              "      <th>YTD</th>\n",
              "      <th>YTD</th>\n",
              "      <th>YTD</th>\n",
              "      <th>YTD</th>\n",
              "      <th>YTD</th>\n",
              "      <th>YTD</th>\n",
              "      <th>YTD</th>\n",
              "      <th>YTD</th>\n",
              "    </tr>\n",
              "  </thead>\n",
              "  <tbody>\n",
              "    <tr>\n",
              "      <th rowspan=\"6\" valign=\"top\">Asia</th>\n",
              "      <th rowspan=\"6\" valign=\"top\">Singapore</th>\n",
              "      <th rowspan=\"3\" valign=\"top\">Sub A</th>\n",
              "      <th>Item 1</th>\n",
              "      <td>34</td>\n",
              "      <td>65</td>\n",
              "      <td>45</td>\n",
              "      <td>30</td>\n",
              "      <td>60</td>\n",
              "      <td>34</td>\n",
              "      <td>30</td>\n",
              "      <td>60</td>\n",
              "      <td>34</td>\n",
              "    </tr>\n",
              "    <tr>\n",
              "      <th>Item 2</th>\n",
              "      <td>34</td>\n",
              "      <td>65</td>\n",
              "      <td>45</td>\n",
              "      <td>30</td>\n",
              "      <td>60</td>\n",
              "      <td>34</td>\n",
              "      <td>30</td>\n",
              "      <td>60</td>\n",
              "      <td>34</td>\n",
              "    </tr>\n",
              "    <tr>\n",
              "      <th>Item 3</th>\n",
              "      <td>34</td>\n",
              "      <td>65</td>\n",
              "      <td>45</td>\n",
              "      <td>30</td>\n",
              "      <td>60</td>\n",
              "      <td>34</td>\n",
              "      <td>30</td>\n",
              "      <td>60</td>\n",
              "      <td>34</td>\n",
              "    </tr>\n",
              "    <tr>\n",
              "      <th rowspan=\"3\" valign=\"top\">Sub B</th>\n",
              "      <th>Item 1</th>\n",
              "      <td>34</td>\n",
              "      <td>65</td>\n",
              "      <td>45</td>\n",
              "      <td>30</td>\n",
              "      <td>60</td>\n",
              "      <td>34</td>\n",
              "      <td>30</td>\n",
              "      <td>60</td>\n",
              "      <td>34</td>\n",
              "    </tr>\n",
              "    <tr>\n",
              "      <th>Item 2</th>\n",
              "      <td>34</td>\n",
              "      <td>65</td>\n",
              "      <td>45</td>\n",
              "      <td>30</td>\n",
              "      <td>60</td>\n",
              "      <td>34</td>\n",
              "      <td>30</td>\n",
              "      <td>60</td>\n",
              "      <td>34</td>\n",
              "    </tr>\n",
              "    <tr>\n",
              "      <th>Item 3</th>\n",
              "      <td>34</td>\n",
              "      <td>65</td>\n",
              "      <td>45</td>\n",
              "      <td>30</td>\n",
              "      <td>60</td>\n",
              "      <td>34</td>\n",
              "      <td>30</td>\n",
              "      <td>60</td>\n",
              "      <td>34</td>\n",
              "    </tr>\n",
              "    <tr>\n",
              "      <th rowspan=\"6\" valign=\"top\">EUR</th>\n",
              "      <th rowspan=\"6\" valign=\"top\">France</th>\n",
              "      <th rowspan=\"3\" valign=\"top\">Sub A</th>\n",
              "      <th>Item 1</th>\n",
              "      <td>34</td>\n",
              "      <td>65</td>\n",
              "      <td>45</td>\n",
              "      <td>30</td>\n",
              "      <td>60</td>\n",
              "      <td>34</td>\n",
              "      <td>30</td>\n",
              "      <td>60</td>\n",
              "      <td>34</td>\n",
              "    </tr>\n",
              "    <tr>\n",
              "      <th>Item 2</th>\n",
              "      <td>34</td>\n",
              "      <td>65</td>\n",
              "      <td>45</td>\n",
              "      <td>30</td>\n",
              "      <td>60</td>\n",
              "      <td>34</td>\n",
              "      <td>30</td>\n",
              "      <td>60</td>\n",
              "      <td>34</td>\n",
              "    </tr>\n",
              "    <tr>\n",
              "      <th>Item 3</th>\n",
              "      <td>34</td>\n",
              "      <td>65</td>\n",
              "      <td>45</td>\n",
              "      <td>30</td>\n",
              "      <td>60</td>\n",
              "      <td>34</td>\n",
              "      <td>30</td>\n",
              "      <td>60</td>\n",
              "      <td>34</td>\n",
              "    </tr>\n",
              "    <tr>\n",
              "      <th rowspan=\"3\" valign=\"top\">Sub B</th>\n",
              "      <th>Item 1</th>\n",
              "      <td>34</td>\n",
              "      <td>65</td>\n",
              "      <td>45</td>\n",
              "      <td>30</td>\n",
              "      <td>60</td>\n",
              "      <td>34</td>\n",
              "      <td>30</td>\n",
              "      <td>60</td>\n",
              "      <td>34</td>\n",
              "    </tr>\n",
              "    <tr>\n",
              "      <th>Item 2</th>\n",
              "      <td>34</td>\n",
              "      <td>65</td>\n",
              "      <td>45</td>\n",
              "      <td>30</td>\n",
              "      <td>60</td>\n",
              "      <td>34</td>\n",
              "      <td>30</td>\n",
              "      <td>60</td>\n",
              "      <td>34</td>\n",
              "    </tr>\n",
              "    <tr>\n",
              "      <th>Item 3</th>\n",
              "      <td>34</td>\n",
              "      <td>65</td>\n",
              "      <td>45</td>\n",
              "      <td>30</td>\n",
              "      <td>60</td>\n",
              "      <td>34</td>\n",
              "      <td>30</td>\n",
              "      <td>60</td>\n",
              "      <td>34</td>\n",
              "    </tr>\n",
              "  </tbody>\n",
              "</table>\n",
              "</div>\n",
              "      <button class=\"colab-df-convert\" onclick=\"convertToInteractive('df-80d1f7f0-3b71-40ac-afdf-f119b1093231')\"\n",
              "              title=\"Convert this dataframe to an interactive table.\"\n",
              "              style=\"display:none;\">\n",
              "        \n",
              "  <svg xmlns=\"http://www.w3.org/2000/svg\" height=\"24px\"viewBox=\"0 0 24 24\"\n",
              "       width=\"24px\">\n",
              "    <path d=\"M0 0h24v24H0V0z\" fill=\"none\"/>\n",
              "    <path d=\"M18.56 5.44l.94 2.06.94-2.06 2.06-.94-2.06-.94-.94-2.06-.94 2.06-2.06.94zm-11 1L8.5 8.5l.94-2.06 2.06-.94-2.06-.94L8.5 2.5l-.94 2.06-2.06.94zm10 10l.94 2.06.94-2.06 2.06-.94-2.06-.94-.94-2.06-.94 2.06-2.06.94z\"/><path d=\"M17.41 7.96l-1.37-1.37c-.4-.4-.92-.59-1.43-.59-.52 0-1.04.2-1.43.59L10.3 9.45l-7.72 7.72c-.78.78-.78 2.05 0 2.83L4 21.41c.39.39.9.59 1.41.59.51 0 1.02-.2 1.41-.59l7.78-7.78 2.81-2.81c.8-.78.8-2.07 0-2.86zM5.41 20L4 18.59l7.72-7.72 1.47 1.35L5.41 20z\"/>\n",
              "  </svg>\n",
              "      </button>\n",
              "      \n",
              "  <style>\n",
              "    .colab-df-container {\n",
              "      display:flex;\n",
              "      flex-wrap:wrap;\n",
              "      gap: 12px;\n",
              "    }\n",
              "\n",
              "    .colab-df-convert {\n",
              "      background-color: #E8F0FE;\n",
              "      border: none;\n",
              "      border-radius: 50%;\n",
              "      cursor: pointer;\n",
              "      display: none;\n",
              "      fill: #1967D2;\n",
              "      height: 32px;\n",
              "      padding: 0 0 0 0;\n",
              "      width: 32px;\n",
              "    }\n",
              "\n",
              "    .colab-df-convert:hover {\n",
              "      background-color: #E2EBFA;\n",
              "      box-shadow: 0px 1px 2px rgba(60, 64, 67, 0.3), 0px 1px 3px 1px rgba(60, 64, 67, 0.15);\n",
              "      fill: #174EA6;\n",
              "    }\n",
              "\n",
              "    [theme=dark] .colab-df-convert {\n",
              "      background-color: #3B4455;\n",
              "      fill: #D2E3FC;\n",
              "    }\n",
              "\n",
              "    [theme=dark] .colab-df-convert:hover {\n",
              "      background-color: #434B5C;\n",
              "      box-shadow: 0px 1px 3px 1px rgba(0, 0, 0, 0.15);\n",
              "      filter: drop-shadow(0px 1px 2px rgba(0, 0, 0, 0.3));\n",
              "      fill: #FFFFFF;\n",
              "    }\n",
              "  </style>\n",
              "\n",
              "      <script>\n",
              "        const buttonEl =\n",
              "          document.querySelector('#df-80d1f7f0-3b71-40ac-afdf-f119b1093231 button.colab-df-convert');\n",
              "        buttonEl.style.display =\n",
              "          google.colab.kernel.accessAllowed ? 'block' : 'none';\n",
              "\n",
              "        async function convertToInteractive(key) {\n",
              "          const element = document.querySelector('#df-80d1f7f0-3b71-40ac-afdf-f119b1093231');\n",
              "          const dataTable =\n",
              "            await google.colab.kernel.invokeFunction('convertToInteractive',\n",
              "                                                     [key], {});\n",
              "          if (!dataTable) return;\n",
              "\n",
              "          const docLinkHtml = 'Like what you see? Visit the ' +\n",
              "            '<a target=\"_blank\" href=https://colab.research.google.com/notebooks/data_table.ipynb>data table notebook</a>'\n",
              "            + ' to learn more about interactive tables.';\n",
              "          element.innerHTML = '';\n",
              "          dataTable['output_type'] = 'display_data';\n",
              "          await google.colab.output.renderOutput(dataTable, element);\n",
              "          const docLink = document.createElement('div');\n",
              "          docLink.innerHTML = docLinkHtml;\n",
              "          element.appendChild(docLink);\n",
              "        }\n",
              "      </script>\n",
              "    </div>\n",
              "  </div>\n",
              "  "
            ]
          },
          "metadata": {},
          "execution_count": 39
        }
      ]
    },
    {
      "cell_type": "code",
      "source": [
        "# No concept of index in Spark DataFrame, in order to preserve index columns assign index to a column with reset_index  call\n",
        "df.reset_index(drop=False,inplace=True)"
      ],
      "metadata": {
        "id": "pVCf8WN-okQQ"
      },
      "execution_count": 40,
      "outputs": []
    },
    {
      "cell_type": "code",
      "source": [
        "s_df = spark.createDataFrame(df.astype(str), schema=None)"
      ],
      "metadata": {
        "id": "-a7jqc-3nThp"
      },
      "execution_count": 41,
      "outputs": []
    },
    {
      "cell_type": "code",
      "source": [
        "s_df.show()"
      ],
      "metadata": {
        "colab": {
          "base_uri": "https://localhost:8080/"
        },
        "id": "XZUZ8WXynVBK",
        "outputId": "4473063c-aca4-44fe-fc1d-a042eedc8294"
      },
      "execution_count": 42,
      "outputs": [
        {
          "output_type": "stream",
          "name": "stdout",
          "text": [
            "+-----------------------+-----------------------+-----------------------+-----------------------+-------------------------------------------+----------------------------------------+---------------------------------------+-------------------------------------------+----------------------------------------+---------------------------------------+------------------------------------------+---------------------------------------+--------------------------------------+\n",
            "|('level_0', '', '', '')|('level_1', '', '', '')|('level_2', '', '', '')|('level_3', '', '', '')|('FY2020', 'December', 'TotalCases', 'YTD')|('FY2020', 'December', 'OverRun', 'YTD')|('FY2020', 'December', 'Budget', 'YTD')|('FY2020', 'November', 'TotalCases', 'YTD')|('FY2020', 'November', 'OverRun', 'YTD')|('FY2020', 'November', 'Budget', 'YTD')|('FY2020', 'October', 'TotalCases', 'YTD')|('FY2020', 'October', 'OverRun', 'YTD')|('FY2020', 'October', 'Budget', 'YTD')|\n",
            "+-----------------------+-----------------------+-----------------------+-----------------------+-------------------------------------------+----------------------------------------+---------------------------------------+-------------------------------------------+----------------------------------------+---------------------------------------+------------------------------------------+---------------------------------------+--------------------------------------+\n",
            "|                   Asia|              Singapore|                  Sub A|                 Item 1|                                         34|                                      65|                                     45|                                         30|                                      60|                                     34|                                        30|                                     60|                                    34|\n",
            "|                   Asia|              Singapore|                  Sub A|                 Item 2|                                         34|                                      65|                                     45|                                         30|                                      60|                                     34|                                        30|                                     60|                                    34|\n",
            "|                   Asia|              Singapore|                  Sub A|                 Item 3|                                         34|                                      65|                                     45|                                         30|                                      60|                                     34|                                        30|                                     60|                                    34|\n",
            "|                   Asia|              Singapore|                  Sub B|                 Item 1|                                         34|                                      65|                                     45|                                         30|                                      60|                                     34|                                        30|                                     60|                                    34|\n",
            "|                   Asia|              Singapore|                  Sub B|                 Item 2|                                         34|                                      65|                                     45|                                         30|                                      60|                                     34|                                        30|                                     60|                                    34|\n",
            "|                   Asia|              Singapore|                  Sub B|                 Item 3|                                         34|                                      65|                                     45|                                         30|                                      60|                                     34|                                        30|                                     60|                                    34|\n",
            "|                    EUR|                 France|                  Sub A|                 Item 1|                                         34|                                      65|                                     45|                                         30|                                      60|                                     34|                                        30|                                     60|                                    34|\n",
            "|                    EUR|                 France|                  Sub A|                 Item 2|                                         34|                                      65|                                     45|                                         30|                                      60|                                     34|                                        30|                                     60|                                    34|\n",
            "|                    EUR|                 France|                  Sub A|                 Item 3|                                         34|                                      65|                                     45|                                         30|                                      60|                                     34|                                        30|                                     60|                                    34|\n",
            "|                    EUR|                 France|                  Sub B|                 Item 1|                                         34|                                      65|                                     45|                                         30|                                      60|                                     34|                                        30|                                     60|                                    34|\n",
            "|                    EUR|                 France|                  Sub B|                 Item 2|                                         34|                                      65|                                     45|                                         30|                                      60|                                     34|                                        30|                                     60|                                    34|\n",
            "|                    EUR|                 France|                  Sub B|                 Item 3|                                         34|                                      65|                                     45|                                         30|                                      60|                                     34|                                        30|                                     60|                                    34|\n",
            "+-----------------------+-----------------------+-----------------------+-----------------------+-------------------------------------------+----------------------------------------+---------------------------------------+-------------------------------------------+----------------------------------------+---------------------------------------+------------------------------------------+---------------------------------------+--------------------------------------+\n",
            "\n"
          ]
        }
      ]
    },
    {
      "cell_type": "code",
      "source": [
        "s_df = s_df.withColumnRenamed(s_df.columns[0], \"Region\")\n",
        "s_df = s_df.withColumnRenamed(s_df.columns[1], \"Country\")\n",
        "s_df = s_df.withColumnRenamed(s_df.columns[2], \"Sub\")\n",
        "s_df = s_df.withColumnRenamed(s_df.columns[3], \"Item\")"
      ],
      "metadata": {
        "id": "_dbZFT4zpDH3"
      },
      "execution_count": 43,
      "outputs": []
    },
    {
      "cell_type": "code",
      "source": [
        "# remove all special char from column names\n",
        "s_df = s_df.select([sf.col(x).alias(x.replace(\" \",\"\")) for x in s_df.columns])\n",
        "s_df = s_df.select([sf.col(x).alias(x.replace(\"(\",\"\")) for x in s_df.columns])\n",
        "s_df = s_df.select([sf.col(x).alias(x.replace(\")\",\"\")) for x in s_df.columns])\n",
        "s_df = s_df.select([sf.col(x).alias(x.replace(\"'\",\"\")) for x in s_df.columns])\n"
      ],
      "metadata": {
        "id": "ZbIpTfu_po1z"
      },
      "execution_count": 44,
      "outputs": []
    },
    {
      "cell_type": "code",
      "source": [
        "# replace comma with underscore \n",
        "s_df = s_df.select([sf.col(x).alias(x.replace(\",\",\"_\")) for x in s_df.columns])"
      ],
      "metadata": {
        "id": "tGUiM4SVq_0S"
      },
      "execution_count": 45,
      "outputs": []
    },
    {
      "cell_type": "code",
      "source": [
        "# Unviot \n",
        "index_cols=[\"Region\", \"Country\", \"Sub\", \"Item\"]\n",
        "pivot_cols=[c for c in s_df.columns if c not in index_cols]\n",
        "\n",
        "unPivotExp = \"stack(\"+str(len(pivot_cols))+\",\"+\",\".join([\"'{\"+str(i)+\"}',{\"+str(i)+\"}\" for i in range(len(pivot_cols))])+\") as (Param, Value)\"\n",
        "s_df = s_df.selectExpr(*index_cols, unPivotExp.format(*pivot_cols))"
      ],
      "metadata": {
        "id": "uLNISgLhrdrZ"
      },
      "execution_count": 46,
      "outputs": []
    },
    {
      "cell_type": "code",
      "source": [
        "# Parm column \n",
        "\n",
        "s_df = s_df.withColumn('Year', sf.split(sf.col('Param'),'_').getItem(0))\n",
        "s_df = s_df.withColumn('Month', sf.split(sf.col('Param'),'_').getItem(1))\n",
        "s_df = s_df.withColumn('Metrics', sf.split(sf.col('Param'),'_').getItem(2))\n",
        "s_df = s_df.withColumn('ComulativeFreq', sf.split(sf.col('Param'),'_').getItem(3))\n",
        "s_df = s_df.drop('Param')\n",
        "s_df = s_df.withColumnRenamed('Value', 'Measure')"
      ],
      "metadata": {
        "id": "Tpohg_XqsVL8"
      },
      "execution_count": 47,
      "outputs": []
    },
    {
      "cell_type": "code",
      "source": [
        "s_df.show()"
      ],
      "metadata": {
        "colab": {
          "base_uri": "https://localhost:8080/"
        },
        "id": "Lf-66viowW9i",
        "outputId": "204ede73-24fa-4daf-f242-6dcdc9d2def5"
      },
      "execution_count": 48,
      "outputs": [
        {
          "output_type": "stream",
          "name": "stdout",
          "text": [
            "+------+---------+-----+------+-------+------+--------+----------+--------------+\n",
            "|Region|  Country|  Sub|  Item|Measure|  Year|   Month|   Metrics|ComulativeFreq|\n",
            "+------+---------+-----+------+-------+------+--------+----------+--------------+\n",
            "|  Asia|Singapore|Sub A|Item 1|     34|FY2020|December|TotalCases|           YTD|\n",
            "|  Asia|Singapore|Sub A|Item 1|     65|FY2020|December|   OverRun|           YTD|\n",
            "|  Asia|Singapore|Sub A|Item 1|     45|FY2020|December|    Budget|           YTD|\n",
            "|  Asia|Singapore|Sub A|Item 1|     30|FY2020|November|TotalCases|           YTD|\n",
            "|  Asia|Singapore|Sub A|Item 1|     60|FY2020|November|   OverRun|           YTD|\n",
            "|  Asia|Singapore|Sub A|Item 1|     34|FY2020|November|    Budget|           YTD|\n",
            "|  Asia|Singapore|Sub A|Item 1|     30|FY2020| October|TotalCases|           YTD|\n",
            "|  Asia|Singapore|Sub A|Item 1|     60|FY2020| October|   OverRun|           YTD|\n",
            "|  Asia|Singapore|Sub A|Item 1|     34|FY2020| October|    Budget|           YTD|\n",
            "|  Asia|Singapore|Sub A|Item 2|     34|FY2020|December|TotalCases|           YTD|\n",
            "|  Asia|Singapore|Sub A|Item 2|     65|FY2020|December|   OverRun|           YTD|\n",
            "|  Asia|Singapore|Sub A|Item 2|     45|FY2020|December|    Budget|           YTD|\n",
            "|  Asia|Singapore|Sub A|Item 2|     30|FY2020|November|TotalCases|           YTD|\n",
            "|  Asia|Singapore|Sub A|Item 2|     60|FY2020|November|   OverRun|           YTD|\n",
            "|  Asia|Singapore|Sub A|Item 2|     34|FY2020|November|    Budget|           YTD|\n",
            "|  Asia|Singapore|Sub A|Item 2|     30|FY2020| October|TotalCases|           YTD|\n",
            "|  Asia|Singapore|Sub A|Item 2|     60|FY2020| October|   OverRun|           YTD|\n",
            "|  Asia|Singapore|Sub A|Item 2|     34|FY2020| October|    Budget|           YTD|\n",
            "|  Asia|Singapore|Sub A|Item 3|     34|FY2020|December|TotalCases|           YTD|\n",
            "|  Asia|Singapore|Sub A|Item 3|     65|FY2020|December|   OverRun|           YTD|\n",
            "+------+---------+-----+------+-------+------+--------+----------+--------------+\n",
            "only showing top 20 rows\n",
            "\n"
          ]
        }
      ]
    }
  ]
}