{
  "nbformat": 4,
  "nbformat_minor": 0,
  "metadata": {
    "colab": {
      "name": "DataframePlay.ipynb",
      "provenance": [],
      "collapsed_sections": [],
      "authorship_tag": "ABX9TyNcW8HPx6mHSJDlFevauXBe",
      "include_colab_link": true
    },
    "kernelspec": {
      "name": "python3",
      "display_name": "Python 3"
    },
    "language_info": {
      "name": "python"
    }
  },
  "cells": [
    {
      "cell_type": "markdown",
      "metadata": {
        "id": "view-in-github",
        "colab_type": "text"
      },
      "source": [
        "<a href=\"https://colab.research.google.com/github/vivekvision/PySparkDataWrangling/blob/main/DataframePlay.ipynb\" target=\"_parent\"><img src=\"https://colab.research.google.com/assets/colab-badge.svg\" alt=\"Open In Colab\"/></a>"
      ]
    },
    {
      "cell_type": "markdown",
      "source": [
        "some of the typical play with data"
      ],
      "metadata": {
        "id": "G5zLYrtONZ8r"
      }
    },
    {
      "cell_type": "code",
      "execution_count": 1,
      "metadata": {
        "colab": {
          "base_uri": "https://localhost:8080/"
        },
        "id": "w-w2rVJXCu2Z",
        "outputId": "3a7f4274-24c4-4510-e4d8-55847e4c535d"
      },
      "outputs": [
        {
          "output_type": "stream",
          "name": "stdout",
          "text": [
            "Collecting pyspark\n",
            "  Downloading pyspark-3.2.1.tar.gz (281.4 MB)\n",
            "\u001b[K     |████████████████████████████████| 281.4 MB 33 kB/s \n",
            "\u001b[?25hCollecting py4j==0.10.9.3\n",
            "  Downloading py4j-0.10.9.3-py2.py3-none-any.whl (198 kB)\n",
            "\u001b[K     |████████████████████████████████| 198 kB 54.4 MB/s \n",
            "\u001b[?25hBuilding wheels for collected packages: pyspark\n",
            "  Building wheel for pyspark (setup.py) ... \u001b[?25l\u001b[?25hdone\n",
            "  Created wheel for pyspark: filename=pyspark-3.2.1-py2.py3-none-any.whl size=281853642 sha256=b09f6fe53ae52dda04922f90bfdd04d08078bdd8d66ddb2f73f46487d4a5d5d7\n",
            "  Stored in directory: /root/.cache/pip/wheels/9f/f5/07/7cd8017084dce4e93e84e92efd1e1d5334db05f2e83bcef74f\n",
            "Successfully built pyspark\n",
            "Installing collected packages: py4j, pyspark\n",
            "Successfully installed py4j-0.10.9.3 pyspark-3.2.1\n"
          ]
        }
      ],
      "source": [
        "!pip install pyspark"
      ]
    },
    {
      "cell_type": "code",
      "source": [
        "from pyspark.sql import SparkSession\n",
        "spark = SparkSession.builder\\\n",
        "        .appName(\"testApp\")\\\n",
        "        .getOrCreate()"
      ],
      "metadata": {
        "id": "SXiDgryQDYua"
      },
      "execution_count": 2,
      "outputs": []
    },
    {
      "cell_type": "markdown",
      "source": [
        "**Read CSV data**"
      ],
      "metadata": {
        "id": "tO3yS0513PnO"
      }
    },
    {
      "cell_type": "code",
      "source": [
        "df = spark.read.csv(\"UsGdpYear.csv\", header=True, inferSchema=True)\n",
        "df.printSchema()"
      ],
      "metadata": {
        "colab": {
          "base_uri": "https://localhost:8080/"
        },
        "id": "HLErWNAdDkkv",
        "outputId": "b10b3c1b-485d-4917-bd3e-908b290ce573"
      },
      "execution_count": 3,
      "outputs": [
        {
          "output_type": "stream",
          "name": "stdout",
          "text": [
            "root\n",
            " |-- date: integer (nullable = true)\n",
            " |-- level-current: double (nullable = true)\n",
            " |-- level-chained: double (nullable = true)\n",
            " |-- change-current: double (nullable = true)\n",
            " |-- change-chained: double (nullable = true)\n",
            "\n"
          ]
        }
      ]
    },
    {
      "cell_type": "markdown",
      "source": [
        "**Importing PySpark Functions**"
      ],
      "metadata": {
        "id": "Ugey29jVEjno"
      }
    },
    {
      "cell_type": "code",
      "source": [
        "# import useful PySpark functions\n",
        "from pyspark.sql import functions as sf"
      ],
      "metadata": {
        "id": "iKzbWMu6xwox"
      },
      "execution_count": 4,
      "outputs": []
    },
    {
      "cell_type": "markdown",
      "source": [
        "**Refer a column**"
      ],
      "metadata": {
        "id": "Z9BfZUGyzXqG"
      }
    },
    {
      "cell_type": "code",
      "source": [
        "# Recommended syntax to refer a column\n",
        "\n",
        "sf.col('level-current')"
      ],
      "metadata": {
        "colab": {
          "base_uri": "https://localhost:8080/"
        },
        "id": "ZJg_kRily9SP",
        "outputId": "5acad95d-d80c-4ee0-bc0d-69f3043cd770"
      },
      "execution_count": 5,
      "outputs": [
        {
          "output_type": "execute_result",
          "data": {
            "text/plain": [
              "Column<'level-current'>"
            ]
          },
          "metadata": {},
          "execution_count": 5
        }
      ]
    },
    {
      "cell_type": "code",
      "source": [
        "# in certain context following might be useful \n",
        "df.date"
      ],
      "metadata": {
        "colab": {
          "base_uri": "https://localhost:8080/"
        },
        "id": "2SV6UShJz71Q",
        "outputId": "db6882ca-7198-4afd-bf85-b3e885212753"
      },
      "execution_count": 6,
      "outputs": [
        {
          "output_type": "execute_result",
          "data": {
            "text/plain": [
              "Column<'date'>"
            ]
          },
          "metadata": {},
          "execution_count": 6
        }
      ]
    },
    {
      "cell_type": "markdown",
      "source": [
        "Used of following syntax is recommended when two dataframe is involved \n",
        "\n",
        "df.Col1\n",
        "\n",
        "In situations like following conditional execution, refering column by dot would be useful  \n",
        "\n",
        "((df1.Col1 == df2.Col1) & (df1.Col2 == df2.Col2) & (df1.Col3 == df2.Col3))\n",
        "\n"
      ],
      "metadata": {
        "id": "2RZoAm5T2GLr"
      }
    },
    {
      "cell_type": "markdown",
      "source": [
        "**Create a new column from another column**"
      ],
      "metadata": {
        "id": "S_G9FwZS3DU-"
      }
    },
    {
      "cell_type": "code",
      "source": [
        "df = df.withColumn('CurrentLevel', sf.col('level-current'))"
      ],
      "metadata": {
        "id": "bF034N-93Iyu"
      },
      "execution_count": 7,
      "outputs": []
    },
    {
      "cell_type": "code",
      "source": [
        "# dispay 5 rows of data\n",
        "df.show(5)"
      ],
      "metadata": {
        "colab": {
          "base_uri": "https://localhost:8080/"
        },
        "id": "2CROfE5X2nmu",
        "outputId": "c9d31b2c-611b-4a76-a758-19e30f8c2e2a"
      },
      "execution_count": 8,
      "outputs": [
        {
          "output_type": "stream",
          "name": "stdout",
          "text": [
            "+----+-------------+-------------+--------------+--------------+------------+\n",
            "|date|level-current|level-chained|change-current|change-chained|CurrentLevel|\n",
            "+----+-------------+-------------+--------------+--------------+------------+\n",
            "|1930|         92.2|        966.7|         -16.0|          -6.4|        92.2|\n",
            "|1931|         77.4|        904.8|         -23.1|         -12.9|        77.4|\n",
            "|1932|         59.5|        788.2|          -4.0|          -1.2|        59.5|\n",
            "|1933|         57.2|        778.3|          16.9|          10.8|        57.2|\n",
            "|1934|         66.8|        862.2|          11.1|           8.9|        66.8|\n",
            "+----+-------------+-------------+--------------+--------------+------------+\n",
            "only showing top 5 rows\n",
            "\n"
          ]
        }
      ]
    },
    {
      "cell_type": "markdown",
      "source": [
        "# Data-frame to List conversion"
      ],
      "metadata": {
        "id": "xRZStn_G4Ymn"
      }
    },
    {
      "cell_type": "code",
      "source": [
        "# Call to function .collect() and .toPandas() is not recommended in the production code \n",
        "\n",
        "df1 = df.select('date').distinct()\n",
        "df1.show(5)"
      ],
      "metadata": {
        "colab": {
          "base_uri": "https://localhost:8080/"
        },
        "id": "g37SbzLZ38_p",
        "outputId": "b3320ece-4c4c-4558-e330-1f8eb729907d"
      },
      "execution_count": 10,
      "outputs": [
        {
          "output_type": "stream",
          "name": "stdout",
          "text": [
            "+----+\n",
            "|date|\n",
            "+----+\n",
            "|1959|\n",
            "|1990|\n",
            "|1975|\n",
            "|1977|\n",
            "|2003|\n",
            "+----+\n",
            "only showing top 5 rows\n",
            "\n"
          ]
        }
      ]
    },
    {
      "cell_type": "code",
      "source": [
        "df1 = df1.dropDuplicates(['date'])\n",
        "df1 = df1.na.drop(how='any')\n",
        "\n",
        "# Convert to Pandas dataframe\n",
        "df_p = df1.toPandas()\n",
        "\n",
        "# convert a column to list \n",
        "date_list = df_p['date'].tolist()"
      ],
      "metadata": {
        "id": "9xjL-04l5OEY"
      },
      "execution_count": 11,
      "outputs": []
    },
    {
      "cell_type": "code",
      "source": [
        ""
      ],
      "metadata": {
        "id": "UXs5RHkK8L35"
      },
      "execution_count": null,
      "outputs": []
    }
  ]
}