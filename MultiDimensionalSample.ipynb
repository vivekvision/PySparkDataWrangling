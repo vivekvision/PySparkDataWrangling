{
  "nbformat": 4,
  "nbformat_minor": 0,
  "metadata": {
    "colab": {
      "name": "MultiDimensionalSample.ipynb",
      "provenance": [],
      "collapsed_sections": [],
      "authorship_tag": "ABX9TyMG62me6po4TdtfyutsUG6X",
      "include_colab_link": true
    },
    "kernelspec": {
      "name": "python3",
      "display_name": "Python 3"
    },
    "language_info": {
      "name": "python"
    }
  },
  "cells": [
    {
      "cell_type": "markdown",
      "metadata": {
        "id": "view-in-github",
        "colab_type": "text"
      },
      "source": [
        "<a href=\"https://colab.research.google.com/github/vivekvision/PySparkDataWrangling/blob/main/MultiDimensionalSample.ipynb\" target=\"_parent\"><img src=\"https://colab.research.google.com/assets/colab-badge.svg\" alt=\"Open In Colab\"/></a>"
      ]
    },
    {
      "cell_type": "markdown",
      "source": [
        "This is not Reommended approach, its just for illustration. Recommended practice is described in anothere notebook: **MultiDimentionalData.ipynb**"
      ],
      "metadata": {
        "id": "ZEyAQ3d_ya3h"
      }
    },
    {
      "cell_type": "code",
      "execution_count": 7,
      "metadata": {
        "colab": {
          "base_uri": "https://localhost:8080/"
        },
        "id": "f7zZ_PbxeRpu",
        "outputId": "cf8528f7-8e27-4d86-ce8a-489cd0bd6e2a"
      },
      "outputs": [
        {
          "output_type": "stream",
          "name": "stdout",
          "text": [
            "Requirement already satisfied: pyspark in /usr/local/lib/python3.7/dist-packages (3.2.1)\n",
            "Requirement already satisfied: py4j==0.10.9.3 in /usr/local/lib/python3.7/dist-packages (from pyspark) (0.10.9.3)\n"
          ]
        }
      ],
      "source": [
        "!pip install pyspark"
      ]
    },
    {
      "cell_type": "code",
      "source": [
        "import pandas as pd\n",
        "import pyspark.sql.functions as sf\n",
        "\n",
        "from pyspark.sql import SparkSession\n",
        "\n",
        "spark = SparkSession.builder\\\n",
        "        .appName(\"testApp\")\\\n",
        "        .getOrCreate()"
      ],
      "metadata": {
        "id": "S1l0AlJmeY18"
      },
      "execution_count": 8,
      "outputs": []
    },
    {
      "cell_type": "code",
      "source": [
        "# free pyspark package can not read excel file directly \n",
        "df = pd.read_excel(\"./MultiDimensionalSample.xlsx\", sheet_name=\"Sheet1\", header=None, dtype=str)"
      ],
      "metadata": {
        "id": "FMCp5NwKeZli"
      },
      "execution_count": 9,
      "outputs": []
    },
    {
      "cell_type": "code",
      "source": [
        "df.head()"
      ],
      "metadata": {
        "colab": {
          "base_uri": "https://localhost:8080/",
          "height": 206
        },
        "id": "R5eNboHniztp",
        "outputId": "8d9b3f2c-4048-416c-d398-8a8eede48024"
      },
      "execution_count": 10,
      "outputs": [
        {
          "output_type": "execute_result",
          "data": {
            "text/plain": [
              "     0          1      2       3           4         5         6           7   \\\n",
              "0   NaN        NaN    NaN     NaN      FY2020    FY2020    FY2020      FY2020   \n",
              "1   NaN        NaN    NaN     NaN    December  December  December    November   \n",
              "2   NaN        NaN    NaN     NaN  TotalCases   OverRun    Budget  TotalCases   \n",
              "3   NaN        NaN    NaN     NaN         YTD       YTD       YTD         YTD   \n",
              "4  Asia  Singapore  Sub A  Item 1          34        65        45          30   \n",
              "\n",
              "         8         9           10       11       12  \n",
              "0    FY2020    FY2020      FY2020   FY2020   FY2020  \n",
              "1  November  November     October  October  October  \n",
              "2   OverRun    Budget  TotalCases  OverRun   Budget  \n",
              "3       YTD       YTD         YTD      YTD      YTD  \n",
              "4        60        34          30       60       34  "
            ],
            "text/html": [
              "\n",
              "  <div id=\"df-cacc8f35-07e7-45d1-aa66-db4ce9e1b3da\">\n",
              "    <div class=\"colab-df-container\">\n",
              "      <div>\n",
              "<style scoped>\n",
              "    .dataframe tbody tr th:only-of-type {\n",
              "        vertical-align: middle;\n",
              "    }\n",
              "\n",
              "    .dataframe tbody tr th {\n",
              "        vertical-align: top;\n",
              "    }\n",
              "\n",
              "    .dataframe thead th {\n",
              "        text-align: right;\n",
              "    }\n",
              "</style>\n",
              "<table border=\"1\" class=\"dataframe\">\n",
              "  <thead>\n",
              "    <tr style=\"text-align: right;\">\n",
              "      <th></th>\n",
              "      <th>0</th>\n",
              "      <th>1</th>\n",
              "      <th>2</th>\n",
              "      <th>3</th>\n",
              "      <th>4</th>\n",
              "      <th>5</th>\n",
              "      <th>6</th>\n",
              "      <th>7</th>\n",
              "      <th>8</th>\n",
              "      <th>9</th>\n",
              "      <th>10</th>\n",
              "      <th>11</th>\n",
              "      <th>12</th>\n",
              "    </tr>\n",
              "  </thead>\n",
              "  <tbody>\n",
              "    <tr>\n",
              "      <th>0</th>\n",
              "      <td>NaN</td>\n",
              "      <td>NaN</td>\n",
              "      <td>NaN</td>\n",
              "      <td>NaN</td>\n",
              "      <td>FY2020</td>\n",
              "      <td>FY2020</td>\n",
              "      <td>FY2020</td>\n",
              "      <td>FY2020</td>\n",
              "      <td>FY2020</td>\n",
              "      <td>FY2020</td>\n",
              "      <td>FY2020</td>\n",
              "      <td>FY2020</td>\n",
              "      <td>FY2020</td>\n",
              "    </tr>\n",
              "    <tr>\n",
              "      <th>1</th>\n",
              "      <td>NaN</td>\n",
              "      <td>NaN</td>\n",
              "      <td>NaN</td>\n",
              "      <td>NaN</td>\n",
              "      <td>December</td>\n",
              "      <td>December</td>\n",
              "      <td>December</td>\n",
              "      <td>November</td>\n",
              "      <td>November</td>\n",
              "      <td>November</td>\n",
              "      <td>October</td>\n",
              "      <td>October</td>\n",
              "      <td>October</td>\n",
              "    </tr>\n",
              "    <tr>\n",
              "      <th>2</th>\n",
              "      <td>NaN</td>\n",
              "      <td>NaN</td>\n",
              "      <td>NaN</td>\n",
              "      <td>NaN</td>\n",
              "      <td>TotalCases</td>\n",
              "      <td>OverRun</td>\n",
              "      <td>Budget</td>\n",
              "      <td>TotalCases</td>\n",
              "      <td>OverRun</td>\n",
              "      <td>Budget</td>\n",
              "      <td>TotalCases</td>\n",
              "      <td>OverRun</td>\n",
              "      <td>Budget</td>\n",
              "    </tr>\n",
              "    <tr>\n",
              "      <th>3</th>\n",
              "      <td>NaN</td>\n",
              "      <td>NaN</td>\n",
              "      <td>NaN</td>\n",
              "      <td>NaN</td>\n",
              "      <td>YTD</td>\n",
              "      <td>YTD</td>\n",
              "      <td>YTD</td>\n",
              "      <td>YTD</td>\n",
              "      <td>YTD</td>\n",
              "      <td>YTD</td>\n",
              "      <td>YTD</td>\n",
              "      <td>YTD</td>\n",
              "      <td>YTD</td>\n",
              "    </tr>\n",
              "    <tr>\n",
              "      <th>4</th>\n",
              "      <td>Asia</td>\n",
              "      <td>Singapore</td>\n",
              "      <td>Sub A</td>\n",
              "      <td>Item 1</td>\n",
              "      <td>34</td>\n",
              "      <td>65</td>\n",
              "      <td>45</td>\n",
              "      <td>30</td>\n",
              "      <td>60</td>\n",
              "      <td>34</td>\n",
              "      <td>30</td>\n",
              "      <td>60</td>\n",
              "      <td>34</td>\n",
              "    </tr>\n",
              "  </tbody>\n",
              "</table>\n",
              "</div>\n",
              "      <button class=\"colab-df-convert\" onclick=\"convertToInteractive('df-cacc8f35-07e7-45d1-aa66-db4ce9e1b3da')\"\n",
              "              title=\"Convert this dataframe to an interactive table.\"\n",
              "              style=\"display:none;\">\n",
              "        \n",
              "  <svg xmlns=\"http://www.w3.org/2000/svg\" height=\"24px\"viewBox=\"0 0 24 24\"\n",
              "       width=\"24px\">\n",
              "    <path d=\"M0 0h24v24H0V0z\" fill=\"none\"/>\n",
              "    <path d=\"M18.56 5.44l.94 2.06.94-2.06 2.06-.94-2.06-.94-.94-2.06-.94 2.06-2.06.94zm-11 1L8.5 8.5l.94-2.06 2.06-.94-2.06-.94L8.5 2.5l-.94 2.06-2.06.94zm10 10l.94 2.06.94-2.06 2.06-.94-2.06-.94-.94-2.06-.94 2.06-2.06.94z\"/><path d=\"M17.41 7.96l-1.37-1.37c-.4-.4-.92-.59-1.43-.59-.52 0-1.04.2-1.43.59L10.3 9.45l-7.72 7.72c-.78.78-.78 2.05 0 2.83L4 21.41c.39.39.9.59 1.41.59.51 0 1.02-.2 1.41-.59l7.78-7.78 2.81-2.81c.8-.78.8-2.07 0-2.86zM5.41 20L4 18.59l7.72-7.72 1.47 1.35L5.41 20z\"/>\n",
              "  </svg>\n",
              "      </button>\n",
              "      \n",
              "  <style>\n",
              "    .colab-df-container {\n",
              "      display:flex;\n",
              "      flex-wrap:wrap;\n",
              "      gap: 12px;\n",
              "    }\n",
              "\n",
              "    .colab-df-convert {\n",
              "      background-color: #E8F0FE;\n",
              "      border: none;\n",
              "      border-radius: 50%;\n",
              "      cursor: pointer;\n",
              "      display: none;\n",
              "      fill: #1967D2;\n",
              "      height: 32px;\n",
              "      padding: 0 0 0 0;\n",
              "      width: 32px;\n",
              "    }\n",
              "\n",
              "    .colab-df-convert:hover {\n",
              "      background-color: #E2EBFA;\n",
              "      box-shadow: 0px 1px 2px rgba(60, 64, 67, 0.3), 0px 1px 3px 1px rgba(60, 64, 67, 0.15);\n",
              "      fill: #174EA6;\n",
              "    }\n",
              "\n",
              "    [theme=dark] .colab-df-convert {\n",
              "      background-color: #3B4455;\n",
              "      fill: #D2E3FC;\n",
              "    }\n",
              "\n",
              "    [theme=dark] .colab-df-convert:hover {\n",
              "      background-color: #434B5C;\n",
              "      box-shadow: 0px 1px 3px 1px rgba(0, 0, 0, 0.15);\n",
              "      filter: drop-shadow(0px 1px 2px rgba(0, 0, 0, 0.3));\n",
              "      fill: #FFFFFF;\n",
              "    }\n",
              "  </style>\n",
              "\n",
              "      <script>\n",
              "        const buttonEl =\n",
              "          document.querySelector('#df-cacc8f35-07e7-45d1-aa66-db4ce9e1b3da button.colab-df-convert');\n",
              "        buttonEl.style.display =\n",
              "          google.colab.kernel.accessAllowed ? 'block' : 'none';\n",
              "\n",
              "        async function convertToInteractive(key) {\n",
              "          const element = document.querySelector('#df-cacc8f35-07e7-45d1-aa66-db4ce9e1b3da');\n",
              "          const dataTable =\n",
              "            await google.colab.kernel.invokeFunction('convertToInteractive',\n",
              "                                                     [key], {});\n",
              "          if (!dataTable) return;\n",
              "\n",
              "          const docLinkHtml = 'Like what you see? Visit the ' +\n",
              "            '<a target=\"_blank\" href=https://colab.research.google.com/notebooks/data_table.ipynb>data table notebook</a>'\n",
              "            + ' to learn more about interactive tables.';\n",
              "          element.innerHTML = '';\n",
              "          dataTable['output_type'] = 'display_data';\n",
              "          await google.colab.output.renderOutput(dataTable, element);\n",
              "          const docLink = document.createElement('div');\n",
              "          docLink.innerHTML = docLinkHtml;\n",
              "          element.appendChild(docLink);\n",
              "        }\n",
              "      </script>\n",
              "    </div>\n",
              "  </div>\n",
              "  "
            ]
          },
          "metadata": {},
          "execution_count": 10
        }
      ]
    },
    {
      "cell_type": "markdown",
      "source": [
        "Above data is required in a noraml data-frame table format \n",
        "\n",
        "\n"
      ],
      "metadata": {
        "id": "KFkDCJWgEDxO"
      }
    },
    {
      "cell_type": "code",
      "source": [
        "# Convert pandas data-frame to Spark data-frame\n",
        "s_df = spark.createDataFrame(df.astype(str))"
      ],
      "metadata": {
        "id": "wJ2XdogDf8lz"
      },
      "execution_count": 12,
      "outputs": []
    },
    {
      "cell_type": "code",
      "source": [
        "s_df.show(4)"
      ],
      "metadata": {
        "colab": {
          "base_uri": "https://localhost:8080/"
        },
        "id": "XE90DX-kir8s",
        "outputId": "a3a003ef-e15c-4c63-d415-3391f78aa676"
      },
      "execution_count": 15,
      "outputs": [
        {
          "output_type": "stream",
          "name": "stdout",
          "text": [
            "+---+---+---+---+----------+--------+--------+----------+--------+--------+----------+-------+-------+-------+\n",
            "|  0|  1|  2|  3|         4|       5|       6|         7|       8|       9|        10|     11|     12|row_num|\n",
            "+---+---+---+---+----------+--------+--------+----------+--------+--------+----------+-------+-------+-------+\n",
            "|nan|nan|nan|nan|    FY2020|  FY2020|  FY2020|    FY2020|  FY2020|  FY2020|    FY2020| FY2020| FY2020|      0|\n",
            "|nan|nan|nan|nan|  December|December|December|  November|November|November|   October|October|October|      1|\n",
            "|nan|nan|nan|nan|TotalCases| OverRun|  Budget|TotalCases| OverRun|  Budget|TotalCases|OverRun| Budget|      2|\n",
            "|nan|nan|nan|nan|       YTD|     YTD|     YTD|       YTD|     YTD|     YTD|       YTD|    YTD|    YTD|      3|\n",
            "+---+---+---+---+----------+--------+--------+----------+--------+--------+----------+-------+-------+-------+\n",
            "only showing top 4 rows\n",
            "\n"
          ]
        }
      ]
    },
    {
      "cell_type": "code",
      "source": [
        "# add a serial number / row number \n",
        "# pyspark function monotonically_increasing_id() provides row number \n",
        "s_df = s_df.withColumn(\"row_num\", sf.monotonically_increasing_id())"
      ],
      "metadata": {
        "id": "IJ9JI5ekr1--"
      },
      "execution_count": 16,
      "outputs": []
    },
    {
      "cell_type": "code",
      "source": [
        "s_df.show(4)"
      ],
      "metadata": {
        "colab": {
          "base_uri": "https://localhost:8080/"
        },
        "id": "MzrxO87xsoze",
        "outputId": "d127791e-3d6e-4f50-db76-f60c2cad4c53"
      },
      "execution_count": 17,
      "outputs": [
        {
          "output_type": "stream",
          "name": "stdout",
          "text": [
            "+---+---+---+---+----------+--------+--------+----------+--------+--------+----------+-------+-------+-------+\n",
            "|  0|  1|  2|  3|         4|       5|       6|         7|       8|       9|        10|     11|     12|row_num|\n",
            "+---+---+---+---+----------+--------+--------+----------+--------+--------+----------+-------+-------+-------+\n",
            "|nan|nan|nan|nan|    FY2020|  FY2020|  FY2020|    FY2020|  FY2020|  FY2020|    FY2020| FY2020| FY2020|      0|\n",
            "|nan|nan|nan|nan|  December|December|December|  November|November|November|   October|October|October|      1|\n",
            "|nan|nan|nan|nan|TotalCases| OverRun|  Budget|TotalCases| OverRun|  Budget|TotalCases|OverRun| Budget|      2|\n",
            "|nan|nan|nan|nan|       YTD|     YTD|     YTD|       YTD|     YTD|     YTD|       YTD|    YTD|    YTD|      3|\n",
            "+---+---+---+---+----------+--------+--------+----------+--------+--------+----------+-------+-------+-------+\n",
            "only showing top 4 rows\n",
            "\n"
          ]
        }
      ]
    },
    {
      "cell_type": "code",
      "source": [
        "# read first 4 rows into a separate data-frame \n",
        "header_df = s_df.where(sf.col('row_num') <5)\n",
        "header_df= header_df.drop('row_num')\n",
        "header_df.show()"
      ],
      "metadata": {
        "colab": {
          "base_uri": "https://localhost:8080/"
        },
        "id": "eNCwTeAgtcXu",
        "outputId": "02ab9903-a59f-4e96-86d6-d5534f2d6186"
      },
      "execution_count": 31,
      "outputs": [
        {
          "output_type": "stream",
          "name": "stdout",
          "text": [
            "+----+---------+-----+------+----------+--------+--------+----------+--------+--------+----------+-------+-------+\n",
            "|   0|        1|    2|     3|         4|       5|       6|         7|       8|       9|        10|     11|     12|\n",
            "+----+---------+-----+------+----------+--------+--------+----------+--------+--------+----------+-------+-------+\n",
            "| nan|      nan|  nan|   nan|    FY2020|  FY2020|  FY2020|    FY2020|  FY2020|  FY2020|    FY2020| FY2020| FY2020|\n",
            "| nan|      nan|  nan|   nan|  December|December|December|  November|November|November|   October|October|October|\n",
            "| nan|      nan|  nan|   nan|TotalCases| OverRun|  Budget|TotalCases| OverRun|  Budget|TotalCases|OverRun| Budget|\n",
            "| nan|      nan|  nan|   nan|       YTD|     YTD|     YTD|       YTD|     YTD|     YTD|       YTD|    YTD|    YTD|\n",
            "|Asia|Singapore|Sub A|Item 1|        34|      65|      45|        30|      60|      34|        30|     60|     34|\n",
            "+----+---------+-----+------+----------+--------+--------+----------+--------+--------+----------+-------+-------+\n",
            "\n"
          ]
        }
      ]
    },
    {
      "cell_type": "code",
      "source": [
        "# drop first 4 columns\n",
        "header_df = header_df.drop(header_df.columns[0],header_df.columns[1], header_df.columns[2], header_df.columns[3])\n",
        "header_df.show()"
      ],
      "metadata": {
        "colab": {
          "base_uri": "https://localhost:8080/"
        },
        "id": "UtlKpN78J6BN",
        "outputId": "a6265496-e9b9-49a0-89dd-bcc9d860dd52"
      },
      "execution_count": 32,
      "outputs": [
        {
          "output_type": "stream",
          "name": "stdout",
          "text": [
            "+----------+--------+--------+----------+--------+--------+----------+-------+-------+\n",
            "|         4|       5|       6|         7|       8|       9|        10|     11|     12|\n",
            "+----------+--------+--------+----------+--------+--------+----------+-------+-------+\n",
            "|    FY2020|  FY2020|  FY2020|    FY2020|  FY2020|  FY2020|    FY2020| FY2020| FY2020|\n",
            "|  December|December|December|  November|November|November|   October|October|October|\n",
            "|TotalCases| OverRun|  Budget|TotalCases| OverRun|  Budget|TotalCases|OverRun| Budget|\n",
            "|       YTD|     YTD|     YTD|       YTD|     YTD|     YTD|       YTD|    YTD|    YTD|\n",
            "|        34|      65|      45|        30|      60|      34|        30|     60|     34|\n",
            "+----------+--------+--------+----------+--------+--------+----------+-------+-------+\n",
            "\n"
          ]
        }
      ]
    },
    {
      "cell_type": "code",
      "source": [
        "# Merge rows into single row using pyspark function: collect_list()\n",
        "exprs = [sf.collect_list(x) for x in header_df.columns]\n",
        "header_df = header_df.agg(*exprs)\n",
        "header_df.toPandas()"
      ],
      "metadata": {
        "colab": {
          "base_uri": "https://localhost:8080/",
          "height": 197
        },
        "id": "uJxmc-6M6o_5",
        "outputId": "2cf0bae4-1032-4bdf-e9c9-fe527b5a0e35"
      },
      "execution_count": 33,
      "outputs": [
        {
          "output_type": "execute_result",
          "data": {
            "text/plain": [
              "                           collect_list(4)  \\\n",
              "0  [FY2020, December, TotalCases, YTD, 34]   \n",
              "\n",
              "                        collect_list(5)                      collect_list(6)  \\\n",
              "0  [FY2020, December, OverRun, YTD, 65]  [FY2020, December, Budget, YTD, 45]   \n",
              "\n",
              "                           collect_list(7)  \\\n",
              "0  [FY2020, November, TotalCases, YTD, 30]   \n",
              "\n",
              "                        collect_list(8)                      collect_list(9)  \\\n",
              "0  [FY2020, November, OverRun, YTD, 60]  [FY2020, November, Budget, YTD, 34]   \n",
              "\n",
              "                         collect_list(10)  \\\n",
              "0  [FY2020, October, TotalCases, YTD, 30]   \n",
              "\n",
              "                      collect_list(11)                    collect_list(12)  \n",
              "0  [FY2020, October, OverRun, YTD, 60]  [FY2020, October, Budget, YTD, 34]  "
            ],
            "text/html": [
              "\n",
              "  <div id=\"df-62956761-52f0-4223-8af4-dee36c10407f\">\n",
              "    <div class=\"colab-df-container\">\n",
              "      <div>\n",
              "<style scoped>\n",
              "    .dataframe tbody tr th:only-of-type {\n",
              "        vertical-align: middle;\n",
              "    }\n",
              "\n",
              "    .dataframe tbody tr th {\n",
              "        vertical-align: top;\n",
              "    }\n",
              "\n",
              "    .dataframe thead th {\n",
              "        text-align: right;\n",
              "    }\n",
              "</style>\n",
              "<table border=\"1\" class=\"dataframe\">\n",
              "  <thead>\n",
              "    <tr style=\"text-align: right;\">\n",
              "      <th></th>\n",
              "      <th>collect_list(4)</th>\n",
              "      <th>collect_list(5)</th>\n",
              "      <th>collect_list(6)</th>\n",
              "      <th>collect_list(7)</th>\n",
              "      <th>collect_list(8)</th>\n",
              "      <th>collect_list(9)</th>\n",
              "      <th>collect_list(10)</th>\n",
              "      <th>collect_list(11)</th>\n",
              "      <th>collect_list(12)</th>\n",
              "    </tr>\n",
              "  </thead>\n",
              "  <tbody>\n",
              "    <tr>\n",
              "      <th>0</th>\n",
              "      <td>[FY2020, December, TotalCases, YTD, 34]</td>\n",
              "      <td>[FY2020, December, OverRun, YTD, 65]</td>\n",
              "      <td>[FY2020, December, Budget, YTD, 45]</td>\n",
              "      <td>[FY2020, November, TotalCases, YTD, 30]</td>\n",
              "      <td>[FY2020, November, OverRun, YTD, 60]</td>\n",
              "      <td>[FY2020, November, Budget, YTD, 34]</td>\n",
              "      <td>[FY2020, October, TotalCases, YTD, 30]</td>\n",
              "      <td>[FY2020, October, OverRun, YTD, 60]</td>\n",
              "      <td>[FY2020, October, Budget, YTD, 34]</td>\n",
              "    </tr>\n",
              "  </tbody>\n",
              "</table>\n",
              "</div>\n",
              "      <button class=\"colab-df-convert\" onclick=\"convertToInteractive('df-62956761-52f0-4223-8af4-dee36c10407f')\"\n",
              "              title=\"Convert this dataframe to an interactive table.\"\n",
              "              style=\"display:none;\">\n",
              "        \n",
              "  <svg xmlns=\"http://www.w3.org/2000/svg\" height=\"24px\"viewBox=\"0 0 24 24\"\n",
              "       width=\"24px\">\n",
              "    <path d=\"M0 0h24v24H0V0z\" fill=\"none\"/>\n",
              "    <path d=\"M18.56 5.44l.94 2.06.94-2.06 2.06-.94-2.06-.94-.94-2.06-.94 2.06-2.06.94zm-11 1L8.5 8.5l.94-2.06 2.06-.94-2.06-.94L8.5 2.5l-.94 2.06-2.06.94zm10 10l.94 2.06.94-2.06 2.06-.94-2.06-.94-.94-2.06-.94 2.06-2.06.94z\"/><path d=\"M17.41 7.96l-1.37-1.37c-.4-.4-.92-.59-1.43-.59-.52 0-1.04.2-1.43.59L10.3 9.45l-7.72 7.72c-.78.78-.78 2.05 0 2.83L4 21.41c.39.39.9.59 1.41.59.51 0 1.02-.2 1.41-.59l7.78-7.78 2.81-2.81c.8-.78.8-2.07 0-2.86zM5.41 20L4 18.59l7.72-7.72 1.47 1.35L5.41 20z\"/>\n",
              "  </svg>\n",
              "      </button>\n",
              "      \n",
              "  <style>\n",
              "    .colab-df-container {\n",
              "      display:flex;\n",
              "      flex-wrap:wrap;\n",
              "      gap: 12px;\n",
              "    }\n",
              "\n",
              "    .colab-df-convert {\n",
              "      background-color: #E8F0FE;\n",
              "      border: none;\n",
              "      border-radius: 50%;\n",
              "      cursor: pointer;\n",
              "      display: none;\n",
              "      fill: #1967D2;\n",
              "      height: 32px;\n",
              "      padding: 0 0 0 0;\n",
              "      width: 32px;\n",
              "    }\n",
              "\n",
              "    .colab-df-convert:hover {\n",
              "      background-color: #E2EBFA;\n",
              "      box-shadow: 0px 1px 2px rgba(60, 64, 67, 0.3), 0px 1px 3px 1px rgba(60, 64, 67, 0.15);\n",
              "      fill: #174EA6;\n",
              "    }\n",
              "\n",
              "    [theme=dark] .colab-df-convert {\n",
              "      background-color: #3B4455;\n",
              "      fill: #D2E3FC;\n",
              "    }\n",
              "\n",
              "    [theme=dark] .colab-df-convert:hover {\n",
              "      background-color: #434B5C;\n",
              "      box-shadow: 0px 1px 3px 1px rgba(0, 0, 0, 0.15);\n",
              "      filter: drop-shadow(0px 1px 2px rgba(0, 0, 0, 0.3));\n",
              "      fill: #FFFFFF;\n",
              "    }\n",
              "  </style>\n",
              "\n",
              "      <script>\n",
              "        const buttonEl =\n",
              "          document.querySelector('#df-62956761-52f0-4223-8af4-dee36c10407f button.colab-df-convert');\n",
              "        buttonEl.style.display =\n",
              "          google.colab.kernel.accessAllowed ? 'block' : 'none';\n",
              "\n",
              "        async function convertToInteractive(key) {\n",
              "          const element = document.querySelector('#df-62956761-52f0-4223-8af4-dee36c10407f');\n",
              "          const dataTable =\n",
              "            await google.colab.kernel.invokeFunction('convertToInteractive',\n",
              "                                                     [key], {});\n",
              "          if (!dataTable) return;\n",
              "\n",
              "          const docLinkHtml = 'Like what you see? Visit the ' +\n",
              "            '<a target=\"_blank\" href=https://colab.research.google.com/notebooks/data_table.ipynb>data table notebook</a>'\n",
              "            + ' to learn more about interactive tables.';\n",
              "          element.innerHTML = '';\n",
              "          dataTable['output_type'] = 'display_data';\n",
              "          await google.colab.output.renderOutput(dataTable, element);\n",
              "          const docLink = document.createElement('div');\n",
              "          docLink.innerHTML = docLinkHtml;\n",
              "          element.appendChild(docLink);\n",
              "        }\n",
              "      </script>\n",
              "    </div>\n",
              "  </div>\n",
              "  "
            ]
          },
          "metadata": {},
          "execution_count": 33
        }
      ]
    },
    {
      "cell_type": "code",
      "source": [
        "# retrieve first row from above data-frame\n",
        "firstRow = header_df.first()"
      ],
      "metadata": {
        "id": "NPjolg7nIQuq"
      },
      "execution_count": 34,
      "outputs": []
    },
    {
      "cell_type": "code",
      "source": [
        "firstRow"
      ],
      "metadata": {
        "colab": {
          "base_uri": "https://localhost:8080/"
        },
        "id": "upVxCt5-BTkw",
        "outputId": "048eb77f-c434-400c-f547-f5db77718fa2"
      },
      "execution_count": 35,
      "outputs": [
        {
          "output_type": "execute_result",
          "data": {
            "text/plain": [
              "Row(collect_list(4)=['FY2020', 'December', 'TotalCases', 'YTD', '34'], collect_list(5)=['FY2020', 'December', 'OverRun', 'YTD', '65'], collect_list(6)=['FY2020', 'December', 'Budget', 'YTD', '45'], collect_list(7)=['FY2020', 'November', 'TotalCases', 'YTD', '30'], collect_list(8)=['FY2020', 'November', 'OverRun', 'YTD', '60'], collect_list(9)=['FY2020', 'November', 'Budget', 'YTD', '34'], collect_list(10)=['FY2020', 'October', 'TotalCases', 'YTD', '30'], collect_list(11)=['FY2020', 'October', 'OverRun', 'YTD', '60'], collect_list(12)=['FY2020', 'October', 'Budget', 'YTD', '34'])"
            ]
          },
          "metadata": {},
          "execution_count": 35
        }
      ]
    },
    {
      "cell_type": "code",
      "source": [
        "multi_header_List = list(firstRow.asDict().values())\n",
        "\n"
      ],
      "metadata": {
        "id": "3ukkh-zuBjy_"
      },
      "execution_count": 53,
      "outputs": []
    },
    {
      "cell_type": "code",
      "source": [
        "multi_header_List"
      ],
      "metadata": {
        "colab": {
          "base_uri": "https://localhost:8080/"
        },
        "id": "rFRSuCTZCE4C",
        "outputId": "0523a4f0-baaf-4fe4-fbaf-53a04c47bc3f"
      },
      "execution_count": 54,
      "outputs": [
        {
          "output_type": "execute_result",
          "data": {
            "text/plain": [
              "[['FY2020', 'December', 'TotalCases', 'YTD', '34'],\n",
              " ['FY2020', 'December', 'OverRun', 'YTD', '65'],\n",
              " ['FY2020', 'December', 'Budget', 'YTD', '45'],\n",
              " ['FY2020', 'November', 'TotalCases', 'YTD', '30'],\n",
              " ['FY2020', 'November', 'OverRun', 'YTD', '60'],\n",
              " ['FY2020', 'November', 'Budget', 'YTD', '34'],\n",
              " ['FY2020', 'October', 'TotalCases', 'YTD', '30'],\n",
              " ['FY2020', 'October', 'OverRun', 'YTD', '60'],\n",
              " ['FY2020', 'October', 'Budget', 'YTD', '34']]"
            ]
          },
          "metadata": {},
          "execution_count": 54
        }
      ]
    },
    {
      "cell_type": "code",
      "source": [
        "multi_header_List =  ['_'.join(x) for x in multi_header_List]"
      ],
      "metadata": {
        "id": "_B_UHCLHDrij"
      },
      "execution_count": 55,
      "outputs": []
    },
    {
      "cell_type": "code",
      "source": [
        "multi_header_List"
      ],
      "metadata": {
        "colab": {
          "base_uri": "https://localhost:8080/"
        },
        "id": "RrRd_G-NDvj3",
        "outputId": "c9985c3c-19ba-4c2a-bdf3-638b792d6e79"
      },
      "execution_count": 56,
      "outputs": [
        {
          "output_type": "execute_result",
          "data": {
            "text/plain": [
              "['FY2020_December_TotalCases_YTD_34',\n",
              " 'FY2020_December_OverRun_YTD_65',\n",
              " 'FY2020_December_Budget_YTD_45',\n",
              " 'FY2020_November_TotalCases_YTD_30',\n",
              " 'FY2020_November_OverRun_YTD_60',\n",
              " 'FY2020_November_Budget_YTD_34',\n",
              " 'FY2020_October_TotalCases_YTD_30',\n",
              " 'FY2020_October_OverRun_YTD_60',\n",
              " 'FY2020_October_Budget_YTD_34']"
            ]
          },
          "metadata": {},
          "execution_count": 56
        }
      ]
    },
    {
      "cell_type": "code",
      "source": [
        "# concate all the list elements of above list  \n",
        "columnList = [\"Region\",\"Country\",\"Sub\", \"Item\"] + multi_header_List"
      ],
      "metadata": {
        "id": "w47n-GbGVOPf"
      },
      "execution_count": 57,
      "outputs": []
    },
    {
      "cell_type": "code",
      "source": [
        "columnList"
      ],
      "metadata": {
        "colab": {
          "base_uri": "https://localhost:8080/"
        },
        "id": "Ghoyj1eSUiTA",
        "outputId": "195b69d8-895c-4825-e88e-9f9a1cedc894"
      },
      "execution_count": 58,
      "outputs": [
        {
          "output_type": "execute_result",
          "data": {
            "text/plain": [
              "['Region',\n",
              " 'Country',\n",
              " 'Sub',\n",
              " 'Item',\n",
              " 'FY2020_December_TotalCases_YTD_34',\n",
              " 'FY2020_December_OverRun_YTD_65',\n",
              " 'FY2020_December_Budget_YTD_45',\n",
              " 'FY2020_November_TotalCases_YTD_30',\n",
              " 'FY2020_November_OverRun_YTD_60',\n",
              " 'FY2020_November_Budget_YTD_34',\n",
              " 'FY2020_October_TotalCases_YTD_30',\n",
              " 'FY2020_October_OverRun_YTD_60',\n",
              " 'FY2020_October_Budget_YTD_34']"
            ]
          },
          "metadata": {},
          "execution_count": 58
        }
      ]
    },
    {
      "cell_type": "code",
      "source": [
        "# take content/body into separate data-frame\n",
        "data_df = s_df.where(sf.col('row_num') > 5)\n",
        "data_df= data_df.drop('row_num')\n",
        "data_df.show(4)"
      ],
      "metadata": {
        "colab": {
          "base_uri": "https://localhost:8080/"
        },
        "id": "b1GCR1KoE5il",
        "outputId": "dd1e1abb-020a-4c76-883d-bfac04ff74bf"
      },
      "execution_count": 59,
      "outputs": [
        {
          "output_type": "stream",
          "name": "stdout",
          "text": [
            "+----+---------+-----+------+---+---+---+---+---+---+---+---+---+\n",
            "|   0|        1|    2|     3|  4|  5|  6|  7|  8|  9| 10| 11| 12|\n",
            "+----+---------+-----+------+---+---+---+---+---+---+---+---+---+\n",
            "|Asia|Singapore|Sub A|Item 3| 34| 65| 45| 30| 60| 34| 30| 60| 34|\n",
            "|Asia|Singapore|Sub B|Item 1| 34| 65| 45| 30| 60| 34| 30| 60| 34|\n",
            "|Asia|Singapore|Sub B|Item 2| 34| 65| 45| 30| 60| 34| 30| 60| 34|\n",
            "|Asia|Singapore|Sub B|Item 3| 34| 65| 45| 30| 60| 34| 30| 60| 34|\n",
            "+----+---------+-----+------+---+---+---+---+---+---+---+---+---+\n",
            "only showing top 4 rows\n",
            "\n"
          ]
        }
      ]
    },
    {
      "cell_type": "code",
      "source": [
        "# change column name for all the columns \n",
        "for i in range(0, len(data_df.columns)):\n",
        "  data_df = data_df.withColumnRenamed(data_df.columns[i], columnList[i])"
      ],
      "metadata": {
        "id": "rfu1IKkHB9a3"
      },
      "execution_count": 60,
      "outputs": []
    },
    {
      "cell_type": "code",
      "source": [
        "data_df.columns"
      ],
      "metadata": {
        "colab": {
          "base_uri": "https://localhost:8080/"
        },
        "id": "BDeD35iOD2_G",
        "outputId": "cd79c8f8-ed1a-4f46-fc45-62e3203b2bfe"
      },
      "execution_count": 61,
      "outputs": [
        {
          "output_type": "execute_result",
          "data": {
            "text/plain": [
              "['Region',\n",
              " 'Country',\n",
              " 'Sub',\n",
              " 'Item',\n",
              " 'FY2020_December_TotalCases_YTD_34',\n",
              " 'FY2020_December_OverRun_YTD_65',\n",
              " 'FY2020_December_Budget_YTD_45',\n",
              " 'FY2020_November_TotalCases_YTD_30',\n",
              " 'FY2020_November_OverRun_YTD_60',\n",
              " 'FY2020_November_Budget_YTD_34',\n",
              " 'FY2020_October_TotalCases_YTD_30',\n",
              " 'FY2020_October_OverRun_YTD_60',\n",
              " 'FY2020_October_Budget_YTD_34']"
            ]
          },
          "metadata": {},
          "execution_count": 61
        }
      ]
    },
    {
      "cell_type": "code",
      "source": [
        "data_df.show(4)"
      ],
      "metadata": {
        "colab": {
          "base_uri": "https://localhost:8080/"
        },
        "id": "YxRe7TS-EZdF",
        "outputId": "047eed2b-89ea-4462-8be7-76fcb50c8462"
      },
      "execution_count": 62,
      "outputs": [
        {
          "output_type": "stream",
          "name": "stdout",
          "text": [
            "+------+---------+-----+------+---------------------------------+------------------------------+-----------------------------+---------------------------------+------------------------------+-----------------------------+--------------------------------+-----------------------------+----------------------------+\n",
            "|Region|  Country|  Sub|  Item|FY2020_December_TotalCases_YTD_34|FY2020_December_OverRun_YTD_65|FY2020_December_Budget_YTD_45|FY2020_November_TotalCases_YTD_30|FY2020_November_OverRun_YTD_60|FY2020_November_Budget_YTD_34|FY2020_October_TotalCases_YTD_30|FY2020_October_OverRun_YTD_60|FY2020_October_Budget_YTD_34|\n",
            "+------+---------+-----+------+---------------------------------+------------------------------+-----------------------------+---------------------------------+------------------------------+-----------------------------+--------------------------------+-----------------------------+----------------------------+\n",
            "|  Asia|Singapore|Sub A|Item 3|                               34|                            65|                           45|                               30|                            60|                           34|                              30|                           60|                          34|\n",
            "|  Asia|Singapore|Sub B|Item 1|                               34|                            65|                           45|                               30|                            60|                           34|                              30|                           60|                          34|\n",
            "|  Asia|Singapore|Sub B|Item 2|                               34|                            65|                           45|                               30|                            60|                           34|                              30|                           60|                          34|\n",
            "|  Asia|Singapore|Sub B|Item 3|                               34|                            65|                           45|                               30|                            60|                           34|                              30|                           60|                          34|\n",
            "+------+---------+-----+------+---------------------------------+------------------------------+-----------------------------+---------------------------------+------------------------------+-----------------------------+--------------------------------+-----------------------------+----------------------------+\n",
            "only showing top 4 rows\n",
            "\n"
          ]
        }
      ]
    },
    {
      "cell_type": "code",
      "source": [
        "# UnPivot the columns\n",
        "index_cols=[\"Region\", \"Country\", \"Sub\", \"Item\"]\n",
        "pivot_cols=[c for c in data_df.columns if c not in index_cols]"
      ],
      "metadata": {
        "id": "cz-4eST7YA6X"
      },
      "execution_count": 63,
      "outputs": []
    },
    {
      "cell_type": "code",
      "source": [
        "unPivotExp = \"stack(\"+str(len(pivot_cols))+\",\"+\",\".join([\"'{\"+str(i)+\"}',{\"+str(i)+\"}\" for i in range(len(pivot_cols))])+\") as (Param, Value)\"\n",
        "data_df = data_df.selectExpr(*index_cols, unPivotExp.format(*pivot_cols))"
      ],
      "metadata": {
        "id": "uuE4p3vPbGlb"
      },
      "execution_count": 64,
      "outputs": []
    },
    {
      "cell_type": "code",
      "source": [
        "data_df.show(4)"
      ],
      "metadata": {
        "colab": {
          "base_uri": "https://localhost:8080/"
        },
        "id": "7AAjM_MohQRl",
        "outputId": "f6bdcf70-e9c0-48cf-b478-e4134a979615"
      },
      "execution_count": 65,
      "outputs": [
        {
          "output_type": "stream",
          "name": "stdout",
          "text": [
            "+------+---------+-----+------+--------------------+-----+\n",
            "|Region|  Country|  Sub|  Item|               Param|Value|\n",
            "+------+---------+-----+------+--------------------+-----+\n",
            "|  Asia|Singapore|Sub A|Item 3|FY2020_December_T...|   34|\n",
            "|  Asia|Singapore|Sub A|Item 3|FY2020_December_O...|   65|\n",
            "|  Asia|Singapore|Sub A|Item 3|FY2020_December_B...|   45|\n",
            "|  Asia|Singapore|Sub A|Item 3|FY2020_November_T...|   30|\n",
            "+------+---------+-----+------+--------------------+-----+\n",
            "only showing top 4 rows\n",
            "\n"
          ]
        }
      ]
    },
    {
      "cell_type": "code",
      "source": [
        "data_df = data_df.withColumn('Year', sf.split(sf.col('Param'),'_').getItem(0))\n"
      ],
      "metadata": {
        "id": "XA_qs39Td-Ex"
      },
      "execution_count": 66,
      "outputs": []
    },
    {
      "cell_type": "code",
      "source": [
        "data_df.show(4)"
      ],
      "metadata": {
        "colab": {
          "base_uri": "https://localhost:8080/"
        },
        "id": "KN5fGUg7htA2",
        "outputId": "5bd1a6ab-6e3f-4262-8be0-cbc4575b94ab"
      },
      "execution_count": 67,
      "outputs": [
        {
          "output_type": "stream",
          "name": "stdout",
          "text": [
            "+------+---------+-----+------+--------------------+-----+------+\n",
            "|Region|  Country|  Sub|  Item|               Param|Value|  Year|\n",
            "+------+---------+-----+------+--------------------+-----+------+\n",
            "|  Asia|Singapore|Sub A|Item 3|FY2020_December_T...|   34|FY2020|\n",
            "|  Asia|Singapore|Sub A|Item 3|FY2020_December_O...|   65|FY2020|\n",
            "|  Asia|Singapore|Sub A|Item 3|FY2020_December_B...|   45|FY2020|\n",
            "|  Asia|Singapore|Sub A|Item 3|FY2020_November_T...|   30|FY2020|\n",
            "+------+---------+-----+------+--------------------+-----+------+\n",
            "only showing top 4 rows\n",
            "\n"
          ]
        }
      ]
    },
    {
      "cell_type": "code",
      "source": [
        "data_df = data_df.withColumn('Month', sf.split(sf.col('Param'),'_').getItem(1))\n",
        "data_df = data_df.withColumn('Metrics', sf.split(sf.col('Param'),'_').getItem(2))\n",
        "data_df = data_df.withColumn('ComulativeFreq', sf.split(sf.col('Param'),'_').getItem(3))"
      ],
      "metadata": {
        "id": "agEI28NvhvFx"
      },
      "execution_count": 68,
      "outputs": []
    },
    {
      "cell_type": "code",
      "source": [
        "data_df = data_df.drop('Param')"
      ],
      "metadata": {
        "id": "8RvHmOH8idAq"
      },
      "execution_count": 69,
      "outputs": []
    },
    {
      "cell_type": "code",
      "source": [
        "data_df = data_df.withColumnRenamed('Value', 'Measure')"
      ],
      "metadata": {
        "id": "GETnc8jEijhS"
      },
      "execution_count": 70,
      "outputs": []
    },
    {
      "cell_type": "code",
      "source": [
        "data_df.show()"
      ],
      "metadata": {
        "colab": {
          "base_uri": "https://localhost:8080/"
        },
        "id": "RXGQo3uLtUQt",
        "outputId": "29c05ee2-6e19-4a03-d1c4-6da0862a4ad4"
      },
      "execution_count": 71,
      "outputs": [
        {
          "output_type": "stream",
          "name": "stdout",
          "text": [
            "+------+---------+-----+------+-------+------+--------+----------+--------------+\n",
            "|Region|  Country|  Sub|  Item|Measure|  Year|   Month|   Metrics|ComulativeFreq|\n",
            "+------+---------+-----+------+-------+------+--------+----------+--------------+\n",
            "|  Asia|Singapore|Sub A|Item 3|     34|FY2020|December|TotalCases|           YTD|\n",
            "|  Asia|Singapore|Sub A|Item 3|     65|FY2020|December|   OverRun|           YTD|\n",
            "|  Asia|Singapore|Sub A|Item 3|     45|FY2020|December|    Budget|           YTD|\n",
            "|  Asia|Singapore|Sub A|Item 3|     30|FY2020|November|TotalCases|           YTD|\n",
            "|  Asia|Singapore|Sub A|Item 3|     60|FY2020|November|   OverRun|           YTD|\n",
            "|  Asia|Singapore|Sub A|Item 3|     34|FY2020|November|    Budget|           YTD|\n",
            "|  Asia|Singapore|Sub A|Item 3|     30|FY2020| October|TotalCases|           YTD|\n",
            "|  Asia|Singapore|Sub A|Item 3|     60|FY2020| October|   OverRun|           YTD|\n",
            "|  Asia|Singapore|Sub A|Item 3|     34|FY2020| October|    Budget|           YTD|\n",
            "|  Asia|Singapore|Sub B|Item 1|     34|FY2020|December|TotalCases|           YTD|\n",
            "|  Asia|Singapore|Sub B|Item 1|     65|FY2020|December|   OverRun|           YTD|\n",
            "|  Asia|Singapore|Sub B|Item 1|     45|FY2020|December|    Budget|           YTD|\n",
            "|  Asia|Singapore|Sub B|Item 1|     30|FY2020|November|TotalCases|           YTD|\n",
            "|  Asia|Singapore|Sub B|Item 1|     60|FY2020|November|   OverRun|           YTD|\n",
            "|  Asia|Singapore|Sub B|Item 1|     34|FY2020|November|    Budget|           YTD|\n",
            "|  Asia|Singapore|Sub B|Item 1|     30|FY2020| October|TotalCases|           YTD|\n",
            "|  Asia|Singapore|Sub B|Item 1|     60|FY2020| October|   OverRun|           YTD|\n",
            "|  Asia|Singapore|Sub B|Item 1|     34|FY2020| October|    Budget|           YTD|\n",
            "|  Asia|Singapore|Sub B|Item 2|     34|FY2020|December|TotalCases|           YTD|\n",
            "|  Asia|Singapore|Sub B|Item 2|     65|FY2020|December|   OverRun|           YTD|\n",
            "+------+---------+-----+------+-------+------+--------+----------+--------------+\n",
            "only showing top 20 rows\n",
            "\n"
          ]
        }
      ]
    }
  ]
}